{
 "cells": [
  {
   "cell_type": "code",
   "execution_count": 1,
   "id": "8ed2725f-c53f-4496-9ac9-2c2c93e66f83",
   "metadata": {},
   "outputs": [],
   "source": [
    "import numpy as np\n",
    "import matplotlib.pyplot as plt\n",
    "import open3d as o3d"
   ]
  },
  {
   "cell_type": "markdown",
   "id": "4c10aff8-43e7-4642-b81f-07c1044c96ca",
   "metadata": {},
   "source": [
    "# Try all steve moon walks "
   ]
  },
  {
   "cell_type": "code",
   "execution_count": 2,
   "id": "e2fa5967-44fe-4371-abf4-341c98070af1",
   "metadata": {},
   "outputs": [],
   "source": [
    "from glob import glob\n",
    "\n",
    "# change to your own data path\n",
    "steves = glob(\"./steve_Moonwalk/*.npz\")"
   ]
  },
  {
   "cell_type": "markdown",
   "id": "cd91c57b-1b69-42c5-b5f7-aafdfefdd127",
   "metadata": {},
   "source": [
    "# Geo Objs"
   ]
  },
  {
   "cell_type": "code",
   "execution_count": 3,
   "id": "112acdb3-40da-4c8e-9902-69ca6a5532a1",
   "metadata": {},
   "outputs": [],
   "source": [
    "# Python Data\n",
    "s = steves[0]\n",
    "\n",
    "data = np.load(s)\n",
    "# print(s)\n",
    "# data_keys = data.keys()\n",
    "# print(list(data_keys))\n",
    "\n",
    "VIS_OFFSET_SCALE = 0.4\n",
    "xyz1 = data['s_pc']\n",
    "xyz2 = data['t_pc']\n",
    "trans = data['trans'].flatten()\n",
    "rot = data['rot']\n",
    "xyz2 = (xyz2 - VIS_OFFSET_SCALE*trans)@rot\n",
    "\n",
    "matching = data['correspondences']\n",
    "\n",
    "# Point Cloud\n",
    "pcd1 = o3d.geometry.PointCloud()\n",
    "pcd1.points = o3d.utility.Vector3dVector(xyz1)\n",
    "pcd2 = o3d.geometry.PointCloud()\n",
    "pcd2.points = o3d.utility.Vector3dVector(xyz2)\n",
    "\n",
    "\n",
    "# matching Lines\n",
    "SAMPLE_RATE = 0.002\n",
    "n_match = len(matching)\n",
    "sample_idc = np.random.choice(range(n_match), int(n_match*SAMPLE_RATE))\n",
    "matching_sample = matching[sample_idc]\n",
    "\n",
    "lines = o3d.geometry.LineSet.create_from_point_cloud_correspondences(pcd1, pcd2, matching_sample)\n",
    "\n",
    "\n",
    "# vis_and_save([pcd1], 'pcd.png')"
   ]
  },
  {
   "cell_type": "code",
   "execution_count": 4,
   "id": "9a463e5c-7010-46f7-af50-325c09f9faf3",
   "metadata": {},
   "outputs": [],
   "source": [
    "def my_vis(*geo_objs, default_rotation=None, callback_func=None, save=False, path=None):\n",
    "    vis = o3d.visualization.Visualizer()\n",
    "    vis.create_window()\n",
    "    for obj in geo_objs:  \n",
    "        vis.add_geometry(obj)\n",
    "    \n",
    "    if default_rotation:\n",
    "        ctr = vis.get_view_control()\n",
    "        ctr.rotate(*default_rotation)\n",
    "    \n",
    "    vis.register_animation_callback(callback_func)\n",
    "    vis.run()\n",
    "    \n",
    "    if (callback_func==None) and save:\n",
    "        vis.capture_screen_image(path,  do_render=True)\n",
    "\n",
    "    return vis"
   ]
  },
  {
   "cell_type": "code",
   "execution_count": 5,
   "id": "93330df6-e46c-4d97-86a8-7a7e7932d287",
   "metadata": {},
   "outputs": [],
   "source": [
    "def rotate_view(vis):\n",
    "    ctr = vis.get_view_control()\n",
    "    ctr.rotate(0.2, 0.0)\n",
    "    return False"
   ]
  },
  {
   "cell_type": "code",
   "execution_count": 6,
   "id": "e79b1a77-eab2-4794-bc9b-b1371565b3b9",
   "metadata": {},
   "outputs": [],
   "source": [
    "visualizer = my_vis(pcd1, pcd2, lines, default_rotation=(0,1000), callback_func=rotate_view)"
   ]
  },
  {
   "cell_type": "code",
   "execution_count": null,
   "id": "6a6cc051-704a-470e-a3b5-c1b3b7ca743c",
   "metadata": {},
   "outputs": [],
   "source": [
    "# source: http://www.open3d.org/docs/release/tutorial/visualization/interactive_visualization.html?highlight=visualizer\n",
    "def demo_crop_geometry(pcd):\n",
    "    print(\"Demo for manual geometry cropping\")\n",
    "    print(\n",
    "        \"1) Press 'Y' twice to align geometry with negative direction of y-axis\"\n",
    "    )\n",
    "    print(\"2) Press 'K' to lock screen and to switch to selection mode\")\n",
    "    print(\"3) Drag for rectangle selection,\")\n",
    "    print(\"   or use ctrl + left click for polygon selection\")\n",
    "    print(\"4) Press 'C' to get a selected geometry and to save it\")\n",
    "    print(\"5) Press 'F' to switch to freeview mode\")\n",
    "    o3d.visualization.draw_geometries_with_editing([pcd])\n",
    "\n",
    "\n",
    "def draw_registration_result(source, target, transformation):\n",
    "    source_temp = copy.deepcopy(source)\n",
    "    target_temp = copy.deepcopy(target)\n",
    "    source_temp.paint_uniform_color([1, 0.706, 0])\n",
    "    target_temp.paint_uniform_color([0, 0.651, 0.929])\n",
    "    source_temp.transform(transformation)\n",
    "    o3d.visualization.draw_geometries([source_temp, target_temp])\n",
    "\n",
    "\n",
    "def pick_points(pcd):\n",
    "    print(\"\")\n",
    "    print(\n",
    "        \"1) Please pick at least three correspondences using [shift + left click]\"\n",
    "    )\n",
    "    print(\"   Press [shift + right click] to undo point picking\")\n",
    "    print(\"2) After picking points, press 'Q' to close the window\")\n",
    "    vis = o3d.visualization.VisualizerWithEditing()\n",
    "    vis.create_window()\n",
    "    vis.add_geometry(pcd)\n",
    "    vis.run()  # user picks points\n",
    "    vis.destroy_window()\n",
    "    print(\"\")\n",
    "    return vis.get_picked_points()\n",
    "\n",
    "\n",
    "def demo_manual_registration(source, target):\n",
    "    print(\"Demo for manual ICP\")\n",
    "    print(\"Visualization of two point clouds before manual alignment\")\n",
    "    draw_registration_result(source, target, np.identity(4))\n",
    "\n",
    "    # pick points from two point clouds and builds correspondences\n",
    "    picked_id_source = pick_points(source)\n",
    "    picked_id_target = pick_points(target)\n",
    "    assert (len(picked_id_source) >= 3 and len(picked_id_target) >= 3)\n",
    "    assert (len(picked_id_source) == len(picked_id_target))\n",
    "    corr = np.zeros((len(picked_id_source), 2))\n",
    "    corr[:, 0] = picked_id_source\n",
    "    corr[:, 1] = picked_id_target\n",
    "\n",
    "    # estimate rough transformation using correspondences\n",
    "    print(\"Compute a rough transform using the correspondences given by user\")\n",
    "    p2p = o3d.pipelines.registration.TransformationEstimationPointToPoint()\n",
    "    trans_init = p2p.compute_transformation(source, target,\n",
    "                                            o3d.utility.Vector2iVector(corr))\n",
    "\n",
    "    # point-to-point ICP for refinement\n",
    "    print(\"Perform point-to-point ICP refinement\")\n",
    "    threshold = 0.03  # 3cm distance threshold\n",
    "    reg_p2p = o3d.pipelines.registration.registration_icp(\n",
    "        source, target, threshold, trans_init,\n",
    "        o3d.pipelines.registration.TransformationEstimationPointToPoint())\n",
    "    draw_registration_result(source, target, reg_p2p.transformation)\n",
    "    print(\"\")\n",
    "\n",
    "\n",
    "if __name__ == \"__main__\":\n",
    "    while True:\n",
    "        try:\n",
    "            _ = my_vis(pcd1, pcd2, lines, default_rotation=(0,1000), callback_func=rotate_view)\n",
    "            demo_manual_registration(pcd1, pcd2)\n",
    "        except:\n",
    "            continue"
   ]
  },
  {
   "cell_type": "markdown",
   "id": "8404bf35-2663-418d-ab35-86453e131abf",
   "metadata": {},
   "source": [
    "## Export"
   ]
  },
  {
   "cell_type": "markdown",
   "id": "a18e70b2-d164-4150-9d1f-10c2b6acfcf5",
   "metadata": {},
   "source": [
    "## Voxels"
   ]
  },
  {
   "cell_type": "markdown",
   "id": "01810abc-70ce-42c0-9243-14561ad729a7",
   "metadata": {},
   "source": [
    "colors = np.tile([0.6, 0.6, 0.8],  (sel_xyz1.shape[0], 1))\n",
    "noises = 0.1*np.random.normal(size=(sel_xyz1.shape[0], 1))\n",
    "pcd1.colors = o3d.utility.Vector3dVector(colors+noises)\n",
    "voxel_grid = o3d.geometry.VoxelGrid.create_from_point_cloud(pcd1, voxel_size=0.04)\n",
    "\n",
    "# vis_and_save([voxel_grid], 'voxel.png')"
   ]
  }
 ],
 "metadata": {
  "kernelspec": {
   "display_name": "new_py3",
   "language": "python",
   "name": "python3"
  },
  "language_info": {
   "codemirror_mode": {
    "name": "ipython",
    "version": 3
   },
   "file_extension": ".py",
   "mimetype": "text/x-python",
   "name": "python",
   "nbconvert_exporter": "python",
   "pygments_lexer": "ipython3",
   "version": "3.7.10"
  }
 },
 "nbformat": 4,
 "nbformat_minor": 5
}
