{
 "cells": [
  {
   "cell_type": "code",
   "execution_count": 2,
   "id": "8ed2725f-c53f-4496-9ac9-2c2c93e66f83",
   "metadata": {},
   "outputs": [],
   "source": [
    "import numpy as np\n",
    "import matplotlib.pyplot as plt\n",
    "import open3d as o3d"
   ]
  },
  {
   "cell_type": "markdown",
   "id": "4c10aff8-43e7-4642-b81f-07c1044c96ca",
   "metadata": {},
   "source": [
    "# Try all steve moon walks "
   ]
  },
  {
   "cell_type": "code",
   "execution_count": 2,
   "id": "e2fa5967-44fe-4371-abf4-341c98070af1",
   "metadata": {},
   "outputs": [
    {
     "name": "stdout",
     "output_type": "stream",
     "text": [
      "./steve_Moonwalk/cam2_0003_cam1_0009.npz\n",
      "['s_pc', 't_pc', 's2t_flow', 'correspondences', 's_overlap_rate', 'rot', 'trans', 'metric_index']\n"
     ]
    }
   ],
   "source": [
    "from glob import glob\n",
    "\n",
    "# change to your own data path\n",
    "steves = glob(\"./steve_Moonwalk/*.npz\")\n",
    "\n",
    "for i, s in enumerate(steves): \n",
    "    if i != 0: continue\n",
    "    data=np.load(s)\n",
    "    print(s)\n",
    "    data_keys=data.keys()\n",
    "    print(list(data_keys))\n",
    "    \n",
    "    xyz1=data['s_pc']\n",
    "    xyz2=data['t_pc']\n",
    "    trans = 0.4*data['trans']\n",
    "    rot = data['rot']\n",
    "    xyz2 = (xyz2 - trans.T)@rot\n",
    "    \n",
    "    pcd1 = o3d.geometry.PointCloud()\n",
    "    pcd1.points = o3d.utility.Vector3dVector(xyz1)\n",
    "    pcd2 = o3d.geometry.PointCloud()\n",
    "    pcd2.points = o3d.utility.Vector3dVector(xyz2)\n",
    "    \n",
    "    \n",
    "    try:\n",
    "        vis.close()\n",
    "    except: \n",
    "        pass\n",
    "    vis = o3d.visualization.Visualizer()\n",
    "    vis.create_window()\n",
    "    vis.add_geometry(pcd1)\n",
    "    vis.add_geometry(pcd2)\n",
    "    vis.run()\n",
    "    vis.clear_geometries()\n",
    "    \n",
    "    vis.capture_screen_image('new2.png',  do_render=True)"
   ]
  }
 ],
 "metadata": {
  "kernelspec": {
   "display_name": "new_py3",
   "language": "python",
   "name": "python3"
  },
  "language_info": {
   "codemirror_mode": {
    "name": "ipython",
    "version": 3
   },
   "file_extension": ".py",
   "mimetype": "text/x-python",
   "name": "python",
   "nbconvert_exporter": "python",
   "pygments_lexer": "ipython3",
   "version": "3.7.10"
  }
 },
 "nbformat": 4,
 "nbformat_minor": 5
}
